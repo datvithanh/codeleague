{
 "cells": [
  {
   "cell_type": "code",
   "execution_count": 97,
   "metadata": {},
   "outputs": [],
   "source": [
    "import numpy as np\n",
    "import pandas as pd\n",
    "from datetime import datetime, timedelta\n",
    "from tqdm import tqdm\n",
    "\n",
    "from joblib import Parallel, delayed"
   ]
  },
  {
   "cell_type": "code",
   "execution_count": 16,
   "metadata": {},
   "outputs": [],
   "source": [
    "df = pd.read_csv('logistics-shopee-code-league/delivery_orders_march.csv')\n",
    "npar = np.array(df)\n"
   ]
  },
  {
   "cell_type": "code",
   "execution_count": 98,
   "metadata": {},
   "outputs": [
    {
     "name": "stderr",
     "output_type": "stream",
     "text": [
      "\n",
      "  0%|          | 0/3176313 [00:00<?, ?it/s]\u001b[A\n",
      "  0%|          | 1/3176313 [00:00<206:29:41,  4.27it/s]\u001b[A\n",
      "  0%|          | 2/3176313 [00:00<180:22:02,  4.89it/s]\u001b[A\n",
      "  0%|          | 16/3176313 [00:01<145:04:17,  6.08it/s]\u001b[A\n",
      "  0%|          | 17/3176313 [00:01<128:51:05,  6.85it/s]\u001b[A\n",
      "  0%|          | 27/3176313 [00:01<93:07:05,  9.48it/s] \u001b[A\n",
      "  0%|          | 38/3176313 [00:01<67:35:45, 13.05it/s]\u001b[A\n",
      "  0%|          | 66/3176313 [00:01<48:26:28, 18.21it/s]\u001b[A\n",
      "  0%|          | 158/3176313 [00:01<34:12:30, 25.79it/s]\u001b[A\n",
      "  0%|          | 238/3176313 [00:02<24:39:42, 35.77it/s]\u001b[A\n",
      "  0%|          | 288/3176313 [00:02<17:48:48, 49.53it/s]\u001b[A\n",
      "  0%|          | 327/3176313 [00:02<13:42:30, 64.36it/s]\u001b[A\n",
      "  0%|          | 368/3176313 [00:02<10:16:19, 85.88it/s]\u001b[A\n",
      "  0%|          | 404/3176313 [00:02<8:25:38, 104.68it/s]\u001b[A\n",
      "  0%|          | 458/3176313 [00:02<6:27:46, 136.50it/s]\u001b[A\n",
      "  0%|          | 494/3176313 [00:02<5:43:58, 153.88it/s]\u001b[A\n",
      "  0%|          | 526/3176313 [00:03<4:58:52, 177.10it/s]\u001b[A\n",
      "  0%|          | 557/3176313 [00:03<4:25:51, 199.09it/s]\u001b[A\n",
      "  0%|          | 587/3176313 [00:03<4:15:11, 207.41it/s]\u001b[A\n",
      "  0%|          | 618/3176313 [00:03<3:50:24, 229.72it/s]\u001b[A\n",
      "  0%|          | 647/3176313 [00:03<4:03:15, 217.58it/s]\u001b[A\n",
      "  0%|          | 688/3176313 [00:03<3:37:19, 243.54it/s]\u001b[A\n",
      "  0%|          | 718/3176313 [00:03<3:40:01, 240.55it/s]\u001b[A\n",
      "  0%|          | 745/3176313 [00:03<3:41:33, 238.89it/s]\u001b[A\n",
      "  0%|          | 778/3176313 [00:04<3:32:40, 248.86it/s]\u001b[A\n",
      "  0%|          | 805/3176313 [00:04<3:38:31, 242.19it/s]\u001b[A\n",
      "  0%|          | 831/3176313 [00:04<3:41:17, 239.16it/s]\u001b[A\n",
      "  0%|          | 868/3176313 [00:04<3:53:50, 226.33it/s]\u001b[A\n",
      "  0%|          | 918/3176313 [00:04<3:24:45, 258.47it/s]\u001b[A\n",
      "  0%|          | 948/3176313 [00:04<3:29:28, 252.65it/s]\u001b[A\n",
      "  0%|          | 998/3176313 [00:04<3:02:38, 289.75it/s]\u001b[A\n",
      "  0%|          | 1030/3176313 [00:04<3:20:16, 264.25it/s]\u001b[A\n",
      "  0%|          | 1068/3176313 [00:05<3:15:12, 271.11it/s]\u001b[A\n",
      "  0%|          | 1108/3176313 [00:05<3:15:35, 270.56it/s]\u001b[A\n",
      "  0%|          | 1138/3176313 [00:05<3:25:02, 258.08it/s]\u001b[A\n",
      "  0%|          | 1168/3176313 [00:05<3:32:28, 249.05it/s]\u001b[A\n",
      "  0%|          | 1218/3176313 [00:05<3:08:38, 280.52it/s]\u001b[A\n",
      "  0%|          | 1248/3176313 [00:05<3:23:54, 259.51it/s]\u001b[A\n",
      "  0%|          | 1298/3176313 [00:05<3:16:54, 268.73it/s]\u001b[A\n",
      "  0%|          | 1327/3176313 [00:06<3:46:37, 233.50it/s]\u001b[A\n",
      "  0%|          | 1353/3176313 [00:06<3:44:10, 236.04it/s]\u001b[A\n",
      "  0%|          | 1378/3176313 [00:06<3:57:23, 222.90it/s]\u001b[A\n",
      "  0%|          | 1418/3176313 [00:06<3:46:06, 234.03it/s]\u001b[A\n",
      "  0%|          | 1458/3176313 [00:06<3:28:55, 253.26it/s]\u001b[A\n",
      "  0%|          | 1498/3176313 [00:06<3:20:13, 264.28it/s]\u001b[A\n",
      "  0%|          | 1528/3176313 [00:06<3:29:16, 252.84it/s]\u001b[A\n",
      "  0%|          | 1568/3176313 [00:06<3:08:21, 280.92it/s]\u001b[A\n",
      "  0%|          | 1598/3176313 [00:07<3:27:36, 254.87it/s]\u001b[A\n",
      "  0%|          | 1638/3176313 [00:07<3:14:48, 271.61it/s]\u001b[A"
     ]
    },
    {
     "ename": "KeyboardInterrupt",
     "evalue": "",
     "output_type": "error",
     "traceback": [
      "\u001b[0;31m---------------------------------------------------------------------------\u001b[0m",
      "\u001b[0;31mKeyboardInterrupt\u001b[0m                         Traceback (most recent call last)",
      "\u001b[0;32m<ipython-input-98-ebd2973558ee>\u001b[0m in \u001b[0;36m<module>\u001b[0;34m\u001b[0m\n\u001b[1;32m     80\u001b[0m     \u001b[0;32mreturn\u001b[0m \u001b[0;36m1\u001b[0m\u001b[0;34m\u001b[0m\u001b[0;34m\u001b[0m\u001b[0m\n\u001b[1;32m     81\u001b[0m \u001b[0;34m\u001b[0m\u001b[0m\n\u001b[0;32m---> 82\u001b[0;31m \u001b[0mislate\u001b[0m \u001b[0;34m=\u001b[0m \u001b[0mParallel\u001b[0m\u001b[0;34m(\u001b[0m\u001b[0mn_jobs\u001b[0m\u001b[0;34m=\u001b[0m\u001b[0;36m8\u001b[0m\u001b[0;34m)\u001b[0m\u001b[0;34m(\u001b[0m\u001b[0mdelayed\u001b[0m\u001b[0;34m(\u001b[0m\u001b[0mprocess_order\u001b[0m\u001b[0;34m)\u001b[0m\u001b[0;34m(\u001b[0m\u001b[0mrow\u001b[0m\u001b[0;34m)\u001b[0m \u001b[0;32mfor\u001b[0m \u001b[0mrow\u001b[0m \u001b[0;32min\u001b[0m \u001b[0mtqdm\u001b[0m\u001b[0;34m(\u001b[0m\u001b[0mnpar\u001b[0m\u001b[0;34m)\u001b[0m\u001b[0;34m)\u001b[0m\u001b[0;34m\u001b[0m\u001b[0;34m\u001b[0m\u001b[0m\n\u001b[0m",
      "\u001b[0;32m/anaconda3/lib/python3.7/site-packages/joblib/parallel.py\u001b[0m in \u001b[0;36m__call__\u001b[0;34m(self, iterable)\u001b[0m\n\u001b[1;32m    932\u001b[0m \u001b[0;34m\u001b[0m\u001b[0m\n\u001b[1;32m    933\u001b[0m             \u001b[0;32mwith\u001b[0m \u001b[0mself\u001b[0m\u001b[0;34m.\u001b[0m\u001b[0m_backend\u001b[0m\u001b[0;34m.\u001b[0m\u001b[0mretrieval_context\u001b[0m\u001b[0;34m(\u001b[0m\u001b[0;34m)\u001b[0m\u001b[0;34m:\u001b[0m\u001b[0;34m\u001b[0m\u001b[0;34m\u001b[0m\u001b[0m\n\u001b[0;32m--> 934\u001b[0;31m                 \u001b[0mself\u001b[0m\u001b[0;34m.\u001b[0m\u001b[0mretrieve\u001b[0m\u001b[0;34m(\u001b[0m\u001b[0;34m)\u001b[0m\u001b[0;34m\u001b[0m\u001b[0;34m\u001b[0m\u001b[0m\n\u001b[0m\u001b[1;32m    935\u001b[0m             \u001b[0;31m# Make sure that we get a last message telling us we are done\u001b[0m\u001b[0;34m\u001b[0m\u001b[0;34m\u001b[0m\u001b[0;34m\u001b[0m\u001b[0m\n\u001b[1;32m    936\u001b[0m             \u001b[0melapsed_time\u001b[0m \u001b[0;34m=\u001b[0m \u001b[0mtime\u001b[0m\u001b[0;34m.\u001b[0m\u001b[0mtime\u001b[0m\u001b[0;34m(\u001b[0m\u001b[0;34m)\u001b[0m \u001b[0;34m-\u001b[0m \u001b[0mself\u001b[0m\u001b[0;34m.\u001b[0m\u001b[0m_start_time\u001b[0m\u001b[0;34m\u001b[0m\u001b[0;34m\u001b[0m\u001b[0m\n",
      "\u001b[0;32m/anaconda3/lib/python3.7/site-packages/joblib/parallel.py\u001b[0m in \u001b[0;36mretrieve\u001b[0;34m(self)\u001b[0m\n\u001b[1;32m    831\u001b[0m             \u001b[0;32mtry\u001b[0m\u001b[0;34m:\u001b[0m\u001b[0;34m\u001b[0m\u001b[0;34m\u001b[0m\u001b[0m\n\u001b[1;32m    832\u001b[0m                 \u001b[0;32mif\u001b[0m \u001b[0mgetattr\u001b[0m\u001b[0;34m(\u001b[0m\u001b[0mself\u001b[0m\u001b[0;34m.\u001b[0m\u001b[0m_backend\u001b[0m\u001b[0;34m,\u001b[0m \u001b[0;34m'supports_timeout'\u001b[0m\u001b[0;34m,\u001b[0m \u001b[0;32mFalse\u001b[0m\u001b[0;34m)\u001b[0m\u001b[0;34m:\u001b[0m\u001b[0;34m\u001b[0m\u001b[0;34m\u001b[0m\u001b[0m\n\u001b[0;32m--> 833\u001b[0;31m                     \u001b[0mself\u001b[0m\u001b[0;34m.\u001b[0m\u001b[0m_output\u001b[0m\u001b[0;34m.\u001b[0m\u001b[0mextend\u001b[0m\u001b[0;34m(\u001b[0m\u001b[0mjob\u001b[0m\u001b[0;34m.\u001b[0m\u001b[0mget\u001b[0m\u001b[0;34m(\u001b[0m\u001b[0mtimeout\u001b[0m\u001b[0;34m=\u001b[0m\u001b[0mself\u001b[0m\u001b[0;34m.\u001b[0m\u001b[0mtimeout\u001b[0m\u001b[0;34m)\u001b[0m\u001b[0;34m)\u001b[0m\u001b[0;34m\u001b[0m\u001b[0;34m\u001b[0m\u001b[0m\n\u001b[0m\u001b[1;32m    834\u001b[0m                 \u001b[0;32melse\u001b[0m\u001b[0;34m:\u001b[0m\u001b[0;34m\u001b[0m\u001b[0;34m\u001b[0m\u001b[0m\n\u001b[1;32m    835\u001b[0m                     \u001b[0mself\u001b[0m\u001b[0;34m.\u001b[0m\u001b[0m_output\u001b[0m\u001b[0;34m.\u001b[0m\u001b[0mextend\u001b[0m\u001b[0;34m(\u001b[0m\u001b[0mjob\u001b[0m\u001b[0;34m.\u001b[0m\u001b[0mget\u001b[0m\u001b[0;34m(\u001b[0m\u001b[0;34m)\u001b[0m\u001b[0;34m)\u001b[0m\u001b[0;34m\u001b[0m\u001b[0;34m\u001b[0m\u001b[0m\n",
      "\u001b[0;32m/anaconda3/lib/python3.7/site-packages/joblib/_parallel_backends.py\u001b[0m in \u001b[0;36mwrap_future_result\u001b[0;34m(future, timeout)\u001b[0m\n\u001b[1;32m    519\u001b[0m         AsyncResults.get from multiprocessing.\"\"\"\n\u001b[1;32m    520\u001b[0m         \u001b[0;32mtry\u001b[0m\u001b[0;34m:\u001b[0m\u001b[0;34m\u001b[0m\u001b[0;34m\u001b[0m\u001b[0m\n\u001b[0;32m--> 521\u001b[0;31m             \u001b[0;32mreturn\u001b[0m \u001b[0mfuture\u001b[0m\u001b[0;34m.\u001b[0m\u001b[0mresult\u001b[0m\u001b[0;34m(\u001b[0m\u001b[0mtimeout\u001b[0m\u001b[0;34m=\u001b[0m\u001b[0mtimeout\u001b[0m\u001b[0;34m)\u001b[0m\u001b[0;34m\u001b[0m\u001b[0;34m\u001b[0m\u001b[0m\n\u001b[0m\u001b[1;32m    522\u001b[0m         \u001b[0;32mexcept\u001b[0m \u001b[0mLokyTimeoutError\u001b[0m\u001b[0;34m:\u001b[0m\u001b[0;34m\u001b[0m\u001b[0;34m\u001b[0m\u001b[0m\n\u001b[1;32m    523\u001b[0m             \u001b[0;32mraise\u001b[0m \u001b[0mTimeoutError\u001b[0m\u001b[0;34m(\u001b[0m\u001b[0;34m)\u001b[0m\u001b[0;34m\u001b[0m\u001b[0;34m\u001b[0m\u001b[0m\n",
      "\u001b[0;32m/anaconda3/lib/python3.7/concurrent/futures/_base.py\u001b[0m in \u001b[0;36mresult\u001b[0;34m(self, timeout)\u001b[0m\n\u001b[1;32m    425\u001b[0m                 \u001b[0;32mreturn\u001b[0m \u001b[0mself\u001b[0m\u001b[0;34m.\u001b[0m\u001b[0m__get_result\u001b[0m\u001b[0;34m(\u001b[0m\u001b[0;34m)\u001b[0m\u001b[0;34m\u001b[0m\u001b[0;34m\u001b[0m\u001b[0m\n\u001b[1;32m    426\u001b[0m \u001b[0;34m\u001b[0m\u001b[0m\n\u001b[0;32m--> 427\u001b[0;31m             \u001b[0mself\u001b[0m\u001b[0;34m.\u001b[0m\u001b[0m_condition\u001b[0m\u001b[0;34m.\u001b[0m\u001b[0mwait\u001b[0m\u001b[0;34m(\u001b[0m\u001b[0mtimeout\u001b[0m\u001b[0;34m)\u001b[0m\u001b[0;34m\u001b[0m\u001b[0;34m\u001b[0m\u001b[0m\n\u001b[0m\u001b[1;32m    428\u001b[0m \u001b[0;34m\u001b[0m\u001b[0m\n\u001b[1;32m    429\u001b[0m             \u001b[0;32mif\u001b[0m \u001b[0mself\u001b[0m\u001b[0;34m.\u001b[0m\u001b[0m_state\u001b[0m \u001b[0;32min\u001b[0m \u001b[0;34m[\u001b[0m\u001b[0mCANCELLED\u001b[0m\u001b[0;34m,\u001b[0m \u001b[0mCANCELLED_AND_NOTIFIED\u001b[0m\u001b[0;34m]\u001b[0m\u001b[0;34m:\u001b[0m\u001b[0;34m\u001b[0m\u001b[0;34m\u001b[0m\u001b[0m\n",
      "\u001b[0;32m/anaconda3/lib/python3.7/threading.py\u001b[0m in \u001b[0;36mwait\u001b[0;34m(self, timeout)\u001b[0m\n\u001b[1;32m    294\u001b[0m         \u001b[0;32mtry\u001b[0m\u001b[0;34m:\u001b[0m    \u001b[0;31m# restore state no matter what (e.g., KeyboardInterrupt)\u001b[0m\u001b[0;34m\u001b[0m\u001b[0;34m\u001b[0m\u001b[0m\n\u001b[1;32m    295\u001b[0m             \u001b[0;32mif\u001b[0m \u001b[0mtimeout\u001b[0m \u001b[0;32mis\u001b[0m \u001b[0;32mNone\u001b[0m\u001b[0;34m:\u001b[0m\u001b[0;34m\u001b[0m\u001b[0;34m\u001b[0m\u001b[0m\n\u001b[0;32m--> 296\u001b[0;31m                 \u001b[0mwaiter\u001b[0m\u001b[0;34m.\u001b[0m\u001b[0macquire\u001b[0m\u001b[0;34m(\u001b[0m\u001b[0;34m)\u001b[0m\u001b[0;34m\u001b[0m\u001b[0;34m\u001b[0m\u001b[0m\n\u001b[0m\u001b[1;32m    297\u001b[0m                 \u001b[0mgotit\u001b[0m \u001b[0;34m=\u001b[0m \u001b[0;32mTrue\u001b[0m\u001b[0;34m\u001b[0m\u001b[0;34m\u001b[0m\u001b[0m\n\u001b[1;32m    298\u001b[0m             \u001b[0;32melse\u001b[0m\u001b[0;34m:\u001b[0m\u001b[0;34m\u001b[0m\u001b[0;34m\u001b[0m\u001b[0m\n",
      "\u001b[0;31mKeyboardInterrupt\u001b[0m: "
     ]
    }
   ],
   "source": [
    "sla_mat = [[3, 5, 7, 7], [5, 5, 7, 7], [7, 7, 7, 7], [7, 7, 7, 7]]\n",
    "\n",
    "def deststr2idx(s):\n",
    "    dests = ['Metro Manila', 'Luzon', 'Visayas', 'Mindanao']\n",
    "    for idx, dest in enumerate(dests):\n",
    "        if i.lower() in s.lower():\n",
    "            return idx\n",
    "    return False\n",
    "\n",
    "def timestamp2date(ts):\n",
    "    dt = datetime.fromtimestamp(ts)\n",
    "    dt = dt.replace(hour=0, minute=0, second=0)\n",
    "    return dt\n",
    "\n",
    "def deststr2idx(s):\n",
    "    dests = ['Metro Manila', 'Luzon', 'Visayas', 'Mindanao']\n",
    "    for idx, dest in enumerate(dests):\n",
    "        if dest.lower() in s.lower():\n",
    "            return idx\n",
    "    return False\n",
    "\n",
    "def get_sla(seller_add, buyer_add):\n",
    "    seller_idx = deststr2idx(seller_add)\n",
    "    buyer_idx = deststr2idx(buyer_add)\n",
    "    return sla_mat[seller_idx][buyer_idx]\n",
    "\n",
    "# 2020-03-08 (Sunday);\n",
    "# 2020-03-25 (Wednesday);\n",
    "# 2020-03-30 (Monday);\n",
    "# 2020-03-31 (Tuesday);\n",
    "\n",
    "public_holidays = [datetime.strptime('2020-03-25', '%Y-%m-%d'), \n",
    "                  datetime.strptime('2020-03-30', '%Y-%m-%d'), \n",
    "                  datetime.strptime('2020-03-31', '%Y-%m-%d')]\n",
    "\n",
    "def count_holidays(start, end):\n",
    "    count = 0\n",
    "    for ph in public_holidays:\n",
    "        if ph >= start and ph <= end:\n",
    "            count += 1\n",
    "    return count\n",
    "\n",
    "def count_sundays(start, end):\n",
    "    count = 0\n",
    "    for i in range(10000):\n",
    "        date = start + timedelta(days=1)\n",
    "        if date > end: \n",
    "            break\n",
    "        if date.weekday() == 6:\n",
    "            count += 1\n",
    "    return count\n",
    "\n",
    "def process_order(row):\n",
    "    sla = get_sla(row[-1], row[-2])\n",
    "    date_pick = timestamp2date(row[1])\n",
    "    date_1st_attempt = timestamp2date(row[2])\n",
    "\n",
    "    if np.isnan(row[3]):\n",
    "        num_holidays = count_holidays(date_pick, date_1st_attempt)\n",
    "        num_sundays = count_sundays(date_pick, date_1st_attempt)\n",
    "        delta = date_1st_attempt - date_pick\n",
    "        total_days = delta.days - num_holidays - num_sundays\n",
    "        if total_days <= sla:\n",
    "            return 0\n",
    "        \n",
    "        return 1\n",
    "    \n",
    "    date_2st_attempt = timestamp2date(row[3])\n",
    "    \n",
    "    if (date_2st_attempt - date_1st_attempt).days >= 3:\n",
    "        return 1\n",
    "    \n",
    "    num_holidays = count_holidays(date_pick, date_2st_attempt)\n",
    "    num_sundays = count_sundays(date_pick, date_2st_attempt)\n",
    "    delta = date_2st_attempt - date_pick\n",
    "    total_days = delta.days - num_holidays - num_sundays\n",
    "    if total_days <= sla:\n",
    "        return 0\n",
    "    \n",
    "    return 1\n",
    "\n",
    "islate = Parallel(n_jobs=8)(delayed(process_order)(row) for row in tqdm(npar))"
   ]
  },
  {
   "cell_type": "code",
   "execution_count": 65,
   "metadata": {},
   "outputs": [
    {
     "data": {
      "text/plain": [
       "True"
      ]
     },
     "execution_count": 65,
     "metadata": {},
     "output_type": "execute_result"
    }
   ],
   "source": [
    "timestamp2date(1583079143) == timestamp2date(1583079143)"
   ]
  },
  {
   "cell_type": "code",
   "execution_count": null,
   "metadata": {},
   "outputs": [],
   "source": []
  }
 ],
 "metadata": {
  "kernelspec": {
   "display_name": "Python 3",
   "language": "python",
   "name": "python3"
  },
  "language_info": {
   "codemirror_mode": {
    "name": "ipython",
    "version": 3
   },
   "file_extension": ".py",
   "mimetype": "text/x-python",
   "name": "python",
   "nbconvert_exporter": "python",
   "pygments_lexer": "ipython3",
   "version": "3.7.2"
  }
 },
 "nbformat": 4,
 "nbformat_minor": 2
}
