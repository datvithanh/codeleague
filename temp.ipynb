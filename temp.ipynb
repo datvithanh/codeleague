{
 "cells": [
  {
   "cell_type": "code",
   "execution_count": 2,
   "metadata": {},
   "outputs": [
    {
     "name": "stderr",
     "output_type": "stream",
     "text": [
      "100%|██████████| 222750/222750 [00:00<00:00, 553501.18it/s]\n"
     ]
    },
    {
     "name": "stdout",
     "output_type": "stream",
     "text": [
      "18770\n"
     ]
    },
    {
     "data": {
      "image/png": "[encoded data removed]",
      "text/plain": [
       "<Figure size 432x288 with 1 Axes>"
      ]
     },
     "metadata": {
      "needs_background": "light"
     },
     "output_type": "display_data"
    }
   ],
   "source": [
    "import os\n",
    "\n",
    "import pandas as pd\n",
    "import numpy as np\n",
    "from tqdm import tqdm\n",
    "\n",
    "from interval import check_brushing\n",
    "from joblib import Parallel, delayed\n",
    "\n",
    "df = pd.read_csv('order_brush_order.csv')\n",
    "shops = {} \n",
    "npar = np.array(df)\n",
    "\n",
    "for row in tqdm(npar):\n",
    "    if row[1] in shops.keys():\n",
    "        shops[row[1]].append(row)\n",
    "    else:\n",
    "        shops[row[1]] = [row]\n",
    "\n",
    "shop_user_pairs = ['shopid', 'userid']\n",
    "count = 0\n",
    "import matplotlib.pyplot as plt\n",
    "print(len(shops))\n",
    "\n",
    "plt.hist([len(v) for k,v in shops.items()])\n",
    "plt.show()"
   ]
  },
  {
   "cell_type": "code",
   "execution_count": null,
   "metadata": {},
   "outputs": [],
   "source": []
  }
 ],
 "metadata": {
  "kernelspec": {
   "display_name": "Python 3",
   "language": "python",
   "name": "python3"
  },
  "language_info": {
   "codemirror_mode": {
    "name": "ipython",
    "version": 3
   },
   "file_extension": ".py",
   "mimetype": "text/x-python",
   "name": "python",
   "nbconvert_exporter": "python",
   "pygments_lexer": "ipython3",
   "version": "3.7.2"
  }
 },
 "nbformat": 4,
 "nbformat_minor": 2
}
